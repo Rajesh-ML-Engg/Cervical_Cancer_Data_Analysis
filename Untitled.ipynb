{
 "cells": [
  {
   "cell_type": "code",
   "execution_count": null,
   "metadata": {},
   "outputs": [],
   "source": []
  },
  {
   "cell_type": "code",
   "execution_count": 240,
   "metadata": {},
   "outputs": [],
   "source": [
    "import logging\n",
    "import os\n",
    "import sys\n",
    "import warnings\n",
    "import shutil\n",
    "import re\n",
    "import numpy as np\n",
    "import pandas as pd\n",
    "import matplotlib.pyplot as plt\n",
    "import seaborn as sns\n",
    "import sklearn\n",
    "import scipy.stats as sc_sts\n",
    "import mlxtend\n",
    "\n",
    "from sklearn.preprocessing import StandardScaler, Normalizer\n",
    "from sklearn.model_selection import train_test_split\n",
    "from sklearn.impute import KNNImputer\n",
    "from sklearn.neighbors import KNeighborsClassifier\n",
    "from sklearn.tree import DecisionTreeClassifier\n",
    "from sklearn.metrics import accuracy_score, precision_score, recall_score, confusion_matrix\n",
    "\n",
    "%matplotlib inline"
   ]
  },
  {
   "cell_type": "code",
   "execution_count": 17,
   "metadata": {},
   "outputs": [],
   "source": [
    "## Some display settings\n",
    "pd.set_option('display.max_rows',105)\n",
    "pd.set_option('display.max_columns',50)\n",
    "warnings.filterwarnings(category=FutureWarning,action='ignore')"
   ]
  },
  {
   "cell_type": "code",
   "execution_count": 3,
   "metadata": {},
   "outputs": [],
   "source": [
    "## Visualization Global Variables\n",
    "label_dict = {'family':'Calibri','size':21,'style':'oblique','color':'coral'}\n",
    "title_dict = {'family':'Calibri','size':23,'style':'oblique','color':'magenta'}\n",
    "wedge_dict = {'linewidth': 1, 'edgecolor': 'black'}\n",
    "txt_dict = {'family':'Calibri','size':16,'style':'oblique','color':'k'}"
   ]
  },
  {
   "cell_type": "code",
   "execution_count": 25,
   "metadata": {},
   "outputs": [],
   "source": [
    "cer_cancer_df = pd.read_csv('Datasets/Cervical_cancer/kag_risk_factors_cervical_cancer.csv').rename(columns={'Citology':'Cytology'})"
   ]
  },
  {
   "cell_type": "code",
   "execution_count": 26,
   "metadata": {},
   "outputs": [],
   "source": [
    "cer_cancer_df['Updt_Dx'] = cer_cancer_df[['Dx:Cancer','Dx']].apply(lambda row: 1 if row['Dx:Cancer'] == 1 and row['Dx'] == 0 else row['Dx'],\\\n",
    "                                                                   axis=1)"
   ]
  },
  {
   "cell_type": "code",
   "execution_count": 27,
   "metadata": {},
   "outputs": [],
   "source": [
    "cer_cancer_df.drop(['STDs: Number of diagnosis',\n",
    "       'STDs: Time since first diagnosis', 'STDs: Time since last diagnosis',\n",
    "       'Dx:Cancer', 'Dx:CIN', 'Dx:HPV', 'Dx'],axis=1,inplace=True)"
   ]
  },
  {
   "cell_type": "code",
   "execution_count": 37,
   "metadata": {},
   "outputs": [
    {
     "data": {
      "text/plain": [
       "Index(['Age', 'Number of sexual partners', 'First sexual intercourse',\n",
       "       'Num of pregnancies', 'Smokes', 'Smokes (years)', 'Smokes (packs/year)',\n",
       "       'Hormonal Contraceptives', 'Hormonal Contraceptives (years)', 'IUD',\n",
       "       'IUD (years)', 'STDs', 'STDs (number)', 'STDs:condylomatosis',\n",
       "       'STDs:cervical condylomatosis', 'STDs:vaginal condylomatosis',\n",
       "       'STDs:vulvo-perineal condylomatosis', 'STDs:syphilis',\n",
       "       'STDs:pelvic inflammatory disease', 'STDs:genital herpes',\n",
       "       'STDs:molluscum contagiosum', 'STDs:AIDS', 'STDs:HIV',\n",
       "       'STDs:Hepatitis B', 'STDs:HPV', 'Hinselmann', 'Schiller', 'Cytology',\n",
       "       'Biopsy', 'Updt_Dx'],\n",
       "      dtype='object')"
      ]
     },
     "execution_count": 37,
     "metadata": {},
     "output_type": "execute_result"
    }
   ],
   "source": [
    "cer_cancer_df.columns"
   ]
  },
  {
   "cell_type": "markdown",
   "metadata": {},
   "source": [
    "#### **Filling missing values**\n",
    "- *'Hormonal Contraceptives'*\n",
    "- *'Hormonal Contraceptives (years)'*\n",
    "- *'IUD'*\n",
    "- *'IUD (years)'*\n",
    "- *'STDs'*\n",
    "- *'STDs (number)'*\n",
    "- *'STDs:condylomatosis'*\n",
    "- *'STDs:cervical condylomatosis'*\n",
    "- *'STDs:vaginal condylomatosis'*\n",
    "- *'STDs:vulvo-perineal condylomatosis'*\n",
    "- *'STDs:syphilis'*\n",
    "- *'STDs:pelvic inflammatory disease'*\n",
    "- *'STDs:genital herpes'*\n",
    "- *'STDs:molluscum contagiosum'*\n",
    "- *'STDs:AIDS'*\n",
    "- *'STDs:HIV'*\n",
    "- *'STDs:Hepatitis B'*\n",
    "- *'STDs:HPV'*\n",
    "\n",
    "#### **For the above columns if 'Hormonal Contraceptives','STDs', 'IUD' and their corresponding features containing missing values then they all are imputed as -1.**\n",
    "- The reason for imputing -1 is that these features are important in terms of prediction thus if patient doesn't provide these details then not even the doctor can tell whether the patient is positive or not in the screening. Hence, I thought this would be best way to make the model learn such kind of data with a different manner.\n",
    "    - I'm applying this implementation on the entire dataset then will create a separate TRAIN and TEST splits. This will introduce any data leakage as I'm filling an all together different value irrespective of the dataset. And, this has be to be implemented in the both the sets."
   ]
  },
  {
   "cell_type": "code",
   "execution_count": 73,
   "metadata": {},
   "outputs": [
    {
     "data": {
      "text/plain": [
       "0.0    753\n",
       "-1      95\n",
       "?       10\n",
       "dtype: int64"
      ]
     },
     "execution_count": 73,
     "metadata": {},
     "output_type": "execute_result"
    }
   ],
   "source": [
    "cer_cancer_df[['Hormonal Contraceptives','STDs','IUD','STDs:cervical condylomatosis']].\\\n",
    "apply(lambda row: -1 if row['STDs']=='?' and row['Hormonal Contraceptives']=='?' and row['IUD']=='?' else row['STDs:cervical condylomatosis']\\\n",
    "      ,axis=1).value_counts()"
   ]
  },
  {
   "cell_type": "code",
   "execution_count": 72,
   "metadata": {},
   "outputs": [],
   "source": [
    "# cer_cancer_df['STDs:cervical condylomatosis'] = cer_cancer_df[['Hormonal Contraceptives','STDs','IUD','STDs:cervical condylomatosis']].\\\n",
    "# apply(lambda row: -1 if row['STDs']==-1 and row['Hormonal Contraceptives']==-1 and row['IUD']==-1 else row['STDs:cervical condylomatosis']\\\n",
    "#      ,axis=1)"
   ]
  },
  {
   "cell_type": "markdown",
   "metadata": {},
   "source": [
    "##### **I have performed the above implementation manually, later on will create a function of it.**"
   ]
  },
  {
   "cell_type": "code",
   "execution_count": 68,
   "metadata": {},
   "outputs": [],
   "source": [
    "def compute_null_percentage(data_df):\n",
    "    \"\"\"\n",
    "    Description: This function is created for calculating the NULL values percentage in every feature.\n",
    "    \n",
    "    Input: It accepts below parameters:\n",
    "        - `data_df: pandas dataframe`\n",
    "                Dataframe with entire dataset\n",
    "    \n",
    "    Return: It returns below object:\n",
    "        -  `nulls_info_df: pandas dataframe`\n",
    "                Dataframe containing nulls percentage feature-wise.    \n",
    "    \"\"\"\n",
    "    cols = []\n",
    "    null_percentage = []\n",
    "\n",
    "    for col in data_df.columns:\n",
    "        no_of_nulls = data_df[data_df[col] == '?'].shape[0]\n",
    "        tot_rec = data_df.shape[0]\n",
    "        nulls_percent = np.round((np.divide(no_of_nulls,tot_rec,dtype= np.float) * 100),2)\n",
    "        cols.append(col)\n",
    "        null_percentage.append(nulls_percent)\n",
    "    \n",
    "    nulls_info_df = pd.DataFrame({'Feature_Name':cols,'NULL Percentage':null_percentage})\n",
    "    return nulls_info_df"
   ]
  },
  {
   "cell_type": "code",
   "execution_count": 74,
   "metadata": {},
   "outputs": [],
   "source": [
    "nulls_percentage_df = compute_null_percentage(data_df=cer_cancer_df)"
   ]
  },
  {
   "cell_type": "code",
   "execution_count": 75,
   "metadata": {},
   "outputs": [
    {
     "data": {
      "image/png": "[encoded data removed]",
      "text/plain": [
       "<Figure size 1152x936 with 1 Axes>"
      ]
     },
     "metadata": {
      "needs_background": "light"
     },
     "output_type": "display_data"
    }
   ],
   "source": [
    "with plt.style.context('seaborn-poster'):\n",
    "    plt.figure(figsize=(16,13))\n",
    "    sns.barplot(y='Feature_Name',x='NULL Percentage',data=nulls_percentage_df,palette='cubehelix')\n",
    "    plt.xlabel('Nulls (%)',fontdict=label_dict)\n",
    "    plt.ylabel('Features',fontdict=label_dict)\n",
    "    plt.title('Nulls percentage in all the features',fontdict=title_dict)\n",
    "    plt.xticks(np.arange(0,101,10))\n",
    "    plt.yticks(size=14,rotation=0,style='italic',color='k')"
   ]
  },
  {
   "cell_type": "markdown",
   "metadata": {},
   "source": [
    "### ***`First, I'm taking trying to build a model that can predict whether patient should undergo Biopsy or not?`***"
   ]
  },
  {
   "cell_type": "code",
   "execution_count": 83,
   "metadata": {},
   "outputs": [],
   "source": [
    "cer_cancer_df.drop(['Hinselmann', 'Schiller', 'Cytology'],axis=1,inplace=True)"
   ]
  },
  {
   "cell_type": "code",
   "execution_count": 116,
   "metadata": {},
   "outputs": [],
   "source": [
    "cer_cancer_df.to_csv('CC_Before_train_test_split.csv',index=False)"
   ]
  },
  {
   "cell_type": "code",
   "execution_count": 295,
   "metadata": {},
   "outputs": [],
   "source": [
    "cer_cancer_df = pd.read_csv(\"CC_Before_train_test_split.csv\")"
   ]
  },
  {
   "cell_type": "code",
   "execution_count": 296,
   "metadata": {},
   "outputs": [
    {
     "data": {
      "text/plain": [
       "0    803\n",
       "1     55\n",
       "Name: Biopsy, dtype: int64"
      ]
     },
     "execution_count": 296,
     "metadata": {},
     "output_type": "execute_result"
    }
   ],
   "source": [
    "cer_cancer_df['Biopsy'].value_counts()"
   ]
  },
  {
   "cell_type": "code",
   "execution_count": 297,
   "metadata": {},
   "outputs": [
    {
     "data": {
      "text/plain": [
       "(858, 26)"
      ]
     },
     "execution_count": 297,
     "metadata": {},
     "output_type": "execute_result"
    }
   ],
   "source": [
    "X = cer_cancer_df[['Age', 'Number of sexual partners', 'First sexual intercourse',\n",
    "       'Num of pregnancies', 'Smokes', 'Smokes (years)', 'Smokes (packs/year)',\n",
    "       'Hormonal Contraceptives', 'Hormonal Contraceptives (years)', 'IUD',\n",
    "       'IUD (years)', 'STDs', 'STDs (number)', 'STDs:condylomatosis',\n",
    "       'STDs:cervical condylomatosis', 'STDs:vaginal condylomatosis',\n",
    "       'STDs:vulvo-perineal condylomatosis', 'STDs:syphilis',\n",
    "       'STDs:pelvic inflammatory disease', 'STDs:genital herpes',\n",
    "       'STDs:molluscum contagiosum', 'STDs:AIDS', 'STDs:HIV',\n",
    "       'STDs:Hepatitis B', 'STDs:HPV','Updt_Dx']]\n",
    "\n",
    "X.shape"
   ]
  },
  {
   "cell_type": "code",
   "execution_count": 298,
   "metadata": {},
   "outputs": [
    {
     "data": {
      "text/plain": [
       "(858, 1)"
      ]
     },
     "execution_count": 298,
     "metadata": {},
     "output_type": "execute_result"
    }
   ],
   "source": [
    "y = cer_cancer_df[['Biopsy']]\n",
    "\n",
    "y.shape"
   ]
  },
  {
   "cell_type": "markdown",
   "metadata": {},
   "source": [
    "#### **Separating data into TRAIN and TEST sets**"
   ]
  },
  {
   "cell_type": "code",
   "execution_count": 335,
   "metadata": {},
   "outputs": [],
   "source": [
    "X1, X_test, y1, y_test = train_test_split(X,y,test_size=0.40,stratify=y,random_state=24)"
   ]
  },
  {
   "cell_type": "code",
   "execution_count": 336,
   "metadata": {},
   "outputs": [
    {
     "name": "stdout",
     "output_type": "stream",
     "text": [
      "(514, 26) (514, 1) (344, 26) (344, 1)\n"
     ]
    }
   ],
   "source": [
    "print(X1.shape,y1.shape,X_test.shape,y_test.shape)"
   ]
  },
  {
   "cell_type": "code",
   "execution_count": 337,
   "metadata": {},
   "outputs": [
    {
     "data": {
      "text/plain": [
       "Biopsy\n",
       "0         481\n",
       "1          33\n",
       "dtype: int64"
      ]
     },
     "execution_count": 337,
     "metadata": {},
     "output_type": "execute_result"
    }
   ],
   "source": [
    "y1.value_counts()"
   ]
  },
  {
   "cell_type": "code",
   "execution_count": 338,
   "metadata": {},
   "outputs": [
    {
     "data": {
      "text/plain": [
       "Biopsy\n",
       "0         322\n",
       "1          22\n",
       "dtype: int64"
      ]
     },
     "execution_count": 338,
     "metadata": {},
     "output_type": "execute_result"
    }
   ],
   "source": [
    "y_test.value_counts()"
   ]
  },
  {
   "cell_type": "markdown",
   "metadata": {},
   "source": [
    "### **Checking whether TRAIN and TEST are from same distribution**\n",
    "- *This is an important step because if Train and Test doesn't belongs to the same distribution then it means both the datasets are coming from different populations and are totally separable which is not the right thing.*"
   ]
  },
  {
   "cell_type": "markdown",
   "metadata": {},
   "source": [
    "##### **Dropping the diagnosis feature from both the sets as this column won't be available in real-time**"
   ]
  },
  {
   "cell_type": "code",
   "execution_count": 339,
   "metadata": {},
   "outputs": [],
   "source": [
    "X1 = X1.drop(['Updt_Dx'],axis=1)\n",
    "X_test = X_test.drop(['Updt_Dx'],axis=1)"
   ]
  },
  {
   "cell_type": "markdown",
   "metadata": {},
   "source": [
    "##### **Creating new `train1` and `test1` sets from `TRAIN` and `TEST`**"
   ]
  },
  {
   "cell_type": "markdown",
   "metadata": {},
   "source": [
    "##### **TRAIN1**"
   ]
  },
  {
   "cell_type": "code",
   "execution_count": 340,
   "metadata": {},
   "outputs": [],
   "source": [
    "X1 = X1.applymap(lambda val: np.NaN if val =='?' else np.float(val))"
   ]
  },
  {
   "cell_type": "code",
   "execution_count": 345,
   "metadata": {},
   "outputs": [
    {
     "data": {
      "text/plain": [
       "(514, 24)"
      ]
     },
     "execution_count": 345,
     "metadata": {},
     "output_type": "execute_result"
    }
   ],
   "source": [
    "X1.shape"
   ]
  },
  {
   "cell_type": "code",
   "execution_count": 346,
   "metadata": {},
   "outputs": [
    {
     "data": {
      "text/plain": [
       "(514, 1)"
      ]
     },
     "execution_count": 346,
     "metadata": {},
     "output_type": "execute_result"
    }
   ],
   "source": [
    "y1.shape"
   ]
  },
  {
   "cell_type": "code",
   "execution_count": 343,
   "metadata": {},
   "outputs": [],
   "source": [
    "ss = StandardScaler()"
   ]
  },
  {
   "cell_type": "code",
   "execution_count": 357,
   "metadata": {},
   "outputs": [
    {
     "data": {
      "text/html": [
       "<div>\n",
       "<style scoped>\n",
       "    .dataframe tbody tr th:only-of-type {\n",
       "        vertical-align: middle;\n",
       "    }\n",
       "\n",
       "    .dataframe tbody tr th {\n",
       "        vertical-align: top;\n",
       "    }\n",
       "\n",
       "    .dataframe thead th {\n",
       "        text-align: right;\n",
       "    }\n",
       "</style>\n",
       "<table border=\"1\" class=\"dataframe\">\n",
       "  <thead>\n",
       "    <tr style=\"text-align: right;\">\n",
       "      <th></th>\n",
       "      <th>Age</th>\n",
       "      <th>Number of sexual partners</th>\n",
       "      <th>First sexual intercourse</th>\n",
       "      <th>Num of pregnancies</th>\n",
       "      <th>Smokes</th>\n",
       "      <th>Smokes (years)</th>\n",
       "      <th>Smokes (packs/year)</th>\n",
       "      <th>Hormonal Contraceptives</th>\n",
       "      <th>Hormonal Contraceptives (years)</th>\n",
       "      <th>IUD</th>\n",
       "      <th>IUD (years)</th>\n",
       "      <th>STDs</th>\n",
       "      <th>STDs (number)</th>\n",
       "      <th>STDs:condylomatosis</th>\n",
       "      <th>STDs:cervical condylomatosis</th>\n",
       "      <th>STDs:vaginal condylomatosis</th>\n",
       "      <th>STDs:vulvo-perineal condylomatosis</th>\n",
       "      <th>STDs:syphilis</th>\n",
       "      <th>STDs:pelvic inflammatory disease</th>\n",
       "      <th>STDs:genital herpes</th>\n",
       "      <th>STDs:molluscum contagiosum</th>\n",
       "      <th>STDs:AIDS</th>\n",
       "      <th>STDs:HIV</th>\n",
       "    </tr>\n",
       "  </thead>\n",
       "  <tbody>\n",
       "    <tr>\n",
       "      <th>0</th>\n",
       "      <td>-0.229913</td>\n",
       "      <td>-0.293250</td>\n",
       "      <td>1.035909</td>\n",
       "      <td>-0.849805</td>\n",
       "      <td>-0.423659</td>\n",
       "      <td>-0.295996</td>\n",
       "      <td>-0.194439</td>\n",
       "      <td>0.797724</td>\n",
       "      <td>0.186753</td>\n",
       "      <td>0.042722</td>\n",
       "      <td>-0.17431</td>\n",
       "      <td>0.024891</td>\n",
       "      <td>-0.089906</td>\n",
       "      <td>0.135851</td>\n",
       "      <td>0.365148</td>\n",
       "      <td>0.326023</td>\n",
       "      <td>0.141421</td>\n",
       "      <td>0.274411</td>\n",
       "      <td>0.354952</td>\n",
       "      <td>0.354952</td>\n",
       "      <td>0.365148</td>\n",
       "      <td>0.365148</td>\n",
       "      <td>0.258738</td>\n",
       "    </tr>\n",
       "    <tr>\n",
       "      <th>1</th>\n",
       "      <td>-0.000223</td>\n",
       "      <td>1.842978</td>\n",
       "      <td>0.682554</td>\n",
       "      <td>0.483821</td>\n",
       "      <td>-0.423659</td>\n",
       "      <td>-0.295996</td>\n",
       "      <td>-0.194439</td>\n",
       "      <td>-0.638179</td>\n",
       "      <td>-0.519121</td>\n",
       "      <td>0.042722</td>\n",
       "      <td>-0.17431</td>\n",
       "      <td>0.024891</td>\n",
       "      <td>-0.089906</td>\n",
       "      <td>0.135851</td>\n",
       "      <td>0.365148</td>\n",
       "      <td>0.326023</td>\n",
       "      <td>0.141421</td>\n",
       "      <td>0.274411</td>\n",
       "      <td>0.354952</td>\n",
       "      <td>0.354952</td>\n",
       "      <td>0.365148</td>\n",
       "      <td>0.365148</td>\n",
       "      <td>0.258738</td>\n",
       "    </tr>\n",
       "    <tr>\n",
       "      <th>2</th>\n",
       "      <td>-0.000223</td>\n",
       "      <td>1.308921</td>\n",
       "      <td>0.682554</td>\n",
       "      <td>-0.182992</td>\n",
       "      <td>-0.423659</td>\n",
       "      <td>-0.295996</td>\n",
       "      <td>-0.194439</td>\n",
       "      <td>0.797724</td>\n",
       "      <td>0.327928</td>\n",
       "      <td>0.042722</td>\n",
       "      <td>-0.17431</td>\n",
       "      <td>0.024891</td>\n",
       "      <td>-0.089906</td>\n",
       "      <td>0.135851</td>\n",
       "      <td>0.365148</td>\n",
       "      <td>0.326023</td>\n",
       "      <td>0.141421</td>\n",
       "      <td>0.274411</td>\n",
       "      <td>0.354952</td>\n",
       "      <td>0.354952</td>\n",
       "      <td>0.365148</td>\n",
       "      <td>0.365148</td>\n",
       "      <td>0.258738</td>\n",
       "    </tr>\n",
       "    <tr>\n",
       "      <th>3</th>\n",
       "      <td>1.377912</td>\n",
       "      <td>-0.293250</td>\n",
       "      <td>-0.024155</td>\n",
       "      <td>1.150633</td>\n",
       "      <td>-0.423659</td>\n",
       "      <td>-0.295996</td>\n",
       "      <td>-0.194439</td>\n",
       "      <td>0.797724</td>\n",
       "      <td>-0.236772</td>\n",
       "      <td>0.042722</td>\n",
       "      <td>-0.17431</td>\n",
       "      <td>0.024891</td>\n",
       "      <td>-0.089906</td>\n",
       "      <td>0.135851</td>\n",
       "      <td>0.365148</td>\n",
       "      <td>0.326023</td>\n",
       "      <td>0.141421</td>\n",
       "      <td>0.274411</td>\n",
       "      <td>0.354952</td>\n",
       "      <td>0.354952</td>\n",
       "      <td>0.365148</td>\n",
       "      <td>0.365148</td>\n",
       "      <td>0.258738</td>\n",
       "    </tr>\n",
       "    <tr>\n",
       "      <th>4</th>\n",
       "      <td>-0.344757</td>\n",
       "      <td>-0.293250</td>\n",
       "      <td>0.329200</td>\n",
       "      <td>-0.849805</td>\n",
       "      <td>-0.423659</td>\n",
       "      <td>-0.295996</td>\n",
       "      <td>-0.194439</td>\n",
       "      <td>0.797724</td>\n",
       "      <td>0.892627</td>\n",
       "      <td>0.042722</td>\n",
       "      <td>-0.17431</td>\n",
       "      <td>0.024891</td>\n",
       "      <td>-0.089906</td>\n",
       "      <td>0.135851</td>\n",
       "      <td>0.365148</td>\n",
       "      <td>0.326023</td>\n",
       "      <td>0.141421</td>\n",
       "      <td>0.274411</td>\n",
       "      <td>0.354952</td>\n",
       "      <td>0.354952</td>\n",
       "      <td>0.365148</td>\n",
       "      <td>0.365148</td>\n",
       "      <td>0.258738</td>\n",
       "    </tr>\n",
       "  </tbody>\n",
       "</table>\n",
       "</div>"
      ],
      "text/plain": [
       "        Age  Number of sexual partners  First sexual intercourse  \\\n",
       "0 -0.229913                  -0.293250                  1.035909   \n",
       "1 -0.000223                   1.842978                  0.682554   \n",
       "2 -0.000223                   1.308921                  0.682554   \n",
       "3  1.377912                  -0.293250                 -0.024155   \n",
       "4 -0.344757                  -0.293250                  0.329200   \n",
       "\n",
       "   Num of pregnancies    Smokes  Smokes (years)  Smokes (packs/year)  \\\n",
       "0           -0.849805 -0.423659       -0.295996            -0.194439   \n",
       "1            0.483821 -0.423659       -0.295996            -0.194439   \n",
       "2           -0.182992 -0.423659       -0.295996            -0.194439   \n",
       "3            1.150633 -0.423659       -0.295996            -0.194439   \n",
       "4           -0.849805 -0.423659       -0.295996            -0.194439   \n",
       "\n",
       "   Hormonal Contraceptives  Hormonal Contraceptives (years)       IUD  \\\n",
       "0                 0.797724                         0.186753  0.042722   \n",
       "1                -0.638179                        -0.519121  0.042722   \n",
       "2                 0.797724                         0.327928  0.042722   \n",
       "3                 0.797724                        -0.236772  0.042722   \n",
       "4                 0.797724                         0.892627  0.042722   \n",
       "\n",
       "   IUD (years)      STDs  STDs (number)  STDs:condylomatosis  \\\n",
       "0     -0.17431  0.024891      -0.089906             0.135851   \n",
       "1     -0.17431  0.024891      -0.089906             0.135851   \n",
       "2     -0.17431  0.024891      -0.089906             0.135851   \n",
       "3     -0.17431  0.024891      -0.089906             0.135851   \n",
       "4     -0.17431  0.024891      -0.089906             0.135851   \n",
       "\n",
       "   STDs:cervical condylomatosis  STDs:vaginal condylomatosis  \\\n",
       "0                      0.365148                     0.326023   \n",
       "1                      0.365148                     0.326023   \n",
       "2                      0.365148                     0.326023   \n",
       "3                      0.365148                     0.326023   \n",
       "4                      0.365148                     0.326023   \n",
       "\n",
       "   STDs:vulvo-perineal condylomatosis  STDs:syphilis  \\\n",
       "0                            0.141421       0.274411   \n",
       "1                            0.141421       0.274411   \n",
       "2                            0.141421       0.274411   \n",
       "3                            0.141421       0.274411   \n",
       "4                            0.141421       0.274411   \n",
       "\n",
       "   STDs:pelvic inflammatory disease  STDs:genital herpes  \\\n",
       "0                          0.354952             0.354952   \n",
       "1                          0.354952             0.354952   \n",
       "2                          0.354952             0.354952   \n",
       "3                          0.354952             0.354952   \n",
       "4                          0.354952             0.354952   \n",
       "\n",
       "   STDs:molluscum contagiosum  STDs:AIDS  STDs:HIV  \n",
       "0                    0.365148   0.365148  0.258738  \n",
       "1                    0.365148   0.365148  0.258738  \n",
       "2                    0.365148   0.365148  0.258738  \n",
       "3                    0.365148   0.365148  0.258738  \n",
       "4                    0.365148   0.365148  0.258738  "
      ]
     },
     "execution_count": 357,
     "metadata": {},
     "output_type": "execute_result"
    }
   ],
   "source": [
    "X1 = pd.DataFrame(ss.fit_transform(X1.iloc[:,0:-1]),columns=X1.columns[0:-1]).reset_index(drop=True)\n",
    "X1.head()"
   ]
  },
  {
   "cell_type": "code",
   "execution_count": 360,
   "metadata": {},
   "outputs": [],
   "source": [
    "train1 = pd.concat([X1.iloc[:,:],y1.iloc[:,:].reset_index(drop=True)],axis=1)"
   ]
  },
  {
   "cell_type": "code",
   "execution_count": 361,
   "metadata": {},
   "outputs": [],
   "source": [
    "train1['target'] = 1   ## Added a new dummy target with value as 1"
   ]
  },
  {
   "cell_type": "code",
   "execution_count": 362,
   "metadata": {},
   "outputs": [
    {
     "data": {
      "text/plain": [
       "(514, 25)"
      ]
     },
     "execution_count": 362,
     "metadata": {},
     "output_type": "execute_result"
    }
   ],
   "source": [
    "train1.shape"
   ]
  },
  {
   "cell_type": "code",
   "execution_count": 363,
   "metadata": {},
   "outputs": [
    {
     "data": {
      "text/html": [
       "<div>\n",
       "<style scoped>\n",
       "    .dataframe tbody tr th:only-of-type {\n",
       "        vertical-align: middle;\n",
       "    }\n",
       "\n",
       "    .dataframe tbody tr th {\n",
       "        vertical-align: top;\n",
       "    }\n",
       "\n",
       "    .dataframe thead th {\n",
       "        text-align: right;\n",
       "    }\n",
       "</style>\n",
       "<table border=\"1\" class=\"dataframe\">\n",
       "  <thead>\n",
       "    <tr style=\"text-align: right;\">\n",
       "      <th></th>\n",
       "      <th>Age</th>\n",
       "      <th>Number of sexual partners</th>\n",
       "      <th>First sexual intercourse</th>\n",
       "      <th>Num of pregnancies</th>\n",
       "      <th>Smokes</th>\n",
       "      <th>Smokes (years)</th>\n",
       "      <th>Smokes (packs/year)</th>\n",
       "      <th>Hormonal Contraceptives</th>\n",
       "      <th>Hormonal Contraceptives (years)</th>\n",
       "      <th>IUD</th>\n",
       "      <th>IUD (years)</th>\n",
       "      <th>STDs</th>\n",
       "      <th>STDs (number)</th>\n",
       "      <th>STDs:condylomatosis</th>\n",
       "      <th>STDs:cervical condylomatosis</th>\n",
       "      <th>STDs:vaginal condylomatosis</th>\n",
       "      <th>STDs:vulvo-perineal condylomatosis</th>\n",
       "      <th>STDs:syphilis</th>\n",
       "      <th>STDs:pelvic inflammatory disease</th>\n",
       "      <th>STDs:genital herpes</th>\n",
       "      <th>STDs:molluscum contagiosum</th>\n",
       "      <th>STDs:AIDS</th>\n",
       "      <th>STDs:HIV</th>\n",
       "      <th>Biopsy</th>\n",
       "      <th>target</th>\n",
       "    </tr>\n",
       "  </thead>\n",
       "  <tbody>\n",
       "    <tr>\n",
       "      <th>0</th>\n",
       "      <td>-0.229913</td>\n",
       "      <td>-0.293250</td>\n",
       "      <td>1.035909</td>\n",
       "      <td>-0.849805</td>\n",
       "      <td>-0.423659</td>\n",
       "      <td>-0.295996</td>\n",
       "      <td>-0.194439</td>\n",
       "      <td>0.797724</td>\n",
       "      <td>0.186753</td>\n",
       "      <td>0.042722</td>\n",
       "      <td>-0.17431</td>\n",
       "      <td>0.024891</td>\n",
       "      <td>-0.089906</td>\n",
       "      <td>0.135851</td>\n",
       "      <td>0.365148</td>\n",
       "      <td>0.326023</td>\n",
       "      <td>0.141421</td>\n",
       "      <td>0.274411</td>\n",
       "      <td>0.354952</td>\n",
       "      <td>0.354952</td>\n",
       "      <td>0.365148</td>\n",
       "      <td>0.365148</td>\n",
       "      <td>0.258738</td>\n",
       "      <td>0</td>\n",
       "      <td>1</td>\n",
       "    </tr>\n",
       "    <tr>\n",
       "      <th>1</th>\n",
       "      <td>-0.000223</td>\n",
       "      <td>1.842978</td>\n",
       "      <td>0.682554</td>\n",
       "      <td>0.483821</td>\n",
       "      <td>-0.423659</td>\n",
       "      <td>-0.295996</td>\n",
       "      <td>-0.194439</td>\n",
       "      <td>-0.638179</td>\n",
       "      <td>-0.519121</td>\n",
       "      <td>0.042722</td>\n",
       "      <td>-0.17431</td>\n",
       "      <td>0.024891</td>\n",
       "      <td>-0.089906</td>\n",
       "      <td>0.135851</td>\n",
       "      <td>0.365148</td>\n",
       "      <td>0.326023</td>\n",
       "      <td>0.141421</td>\n",
       "      <td>0.274411</td>\n",
       "      <td>0.354952</td>\n",
       "      <td>0.354952</td>\n",
       "      <td>0.365148</td>\n",
       "      <td>0.365148</td>\n",
       "      <td>0.258738</td>\n",
       "      <td>0</td>\n",
       "      <td>1</td>\n",
       "    </tr>\n",
       "    <tr>\n",
       "      <th>2</th>\n",
       "      <td>-0.000223</td>\n",
       "      <td>1.308921</td>\n",
       "      <td>0.682554</td>\n",
       "      <td>-0.182992</td>\n",
       "      <td>-0.423659</td>\n",
       "      <td>-0.295996</td>\n",
       "      <td>-0.194439</td>\n",
       "      <td>0.797724</td>\n",
       "      <td>0.327928</td>\n",
       "      <td>0.042722</td>\n",
       "      <td>-0.17431</td>\n",
       "      <td>0.024891</td>\n",
       "      <td>-0.089906</td>\n",
       "      <td>0.135851</td>\n",
       "      <td>0.365148</td>\n",
       "      <td>0.326023</td>\n",
       "      <td>0.141421</td>\n",
       "      <td>0.274411</td>\n",
       "      <td>0.354952</td>\n",
       "      <td>0.354952</td>\n",
       "      <td>0.365148</td>\n",
       "      <td>0.365148</td>\n",
       "      <td>0.258738</td>\n",
       "      <td>0</td>\n",
       "      <td>1</td>\n",
       "    </tr>\n",
       "    <tr>\n",
       "      <th>3</th>\n",
       "      <td>1.377912</td>\n",
       "      <td>-0.293250</td>\n",
       "      <td>-0.024155</td>\n",
       "      <td>1.150633</td>\n",
       "      <td>-0.423659</td>\n",
       "      <td>-0.295996</td>\n",
       "      <td>-0.194439</td>\n",
       "      <td>0.797724</td>\n",
       "      <td>-0.236772</td>\n",
       "      <td>0.042722</td>\n",
       "      <td>-0.17431</td>\n",
       "      <td>0.024891</td>\n",
       "      <td>-0.089906</td>\n",
       "      <td>0.135851</td>\n",
       "      <td>0.365148</td>\n",
       "      <td>0.326023</td>\n",
       "      <td>0.141421</td>\n",
       "      <td>0.274411</td>\n",
       "      <td>0.354952</td>\n",
       "      <td>0.354952</td>\n",
       "      <td>0.365148</td>\n",
       "      <td>0.365148</td>\n",
       "      <td>0.258738</td>\n",
       "      <td>0</td>\n",
       "      <td>1</td>\n",
       "    </tr>\n",
       "    <tr>\n",
       "      <th>4</th>\n",
       "      <td>-0.344757</td>\n",
       "      <td>-0.293250</td>\n",
       "      <td>0.329200</td>\n",
       "      <td>-0.849805</td>\n",
       "      <td>-0.423659</td>\n",
       "      <td>-0.295996</td>\n",
       "      <td>-0.194439</td>\n",
       "      <td>0.797724</td>\n",
       "      <td>0.892627</td>\n",
       "      <td>0.042722</td>\n",
       "      <td>-0.17431</td>\n",
       "      <td>0.024891</td>\n",
       "      <td>-0.089906</td>\n",
       "      <td>0.135851</td>\n",
       "      <td>0.365148</td>\n",
       "      <td>0.326023</td>\n",
       "      <td>0.141421</td>\n",
       "      <td>0.274411</td>\n",
       "      <td>0.354952</td>\n",
       "      <td>0.354952</td>\n",
       "      <td>0.365148</td>\n",
       "      <td>0.365148</td>\n",
       "      <td>0.258738</td>\n",
       "      <td>0</td>\n",
       "      <td>1</td>\n",
       "    </tr>\n",
       "  </tbody>\n",
       "</table>\n",
       "</div>"
      ],
      "text/plain": [
       "        Age  Number of sexual partners  First sexual intercourse  \\\n",
       "0 -0.229913                  -0.293250                  1.035909   \n",
       "1 -0.000223                   1.842978                  0.682554   \n",
       "2 -0.000223                   1.308921                  0.682554   \n",
       "3  1.377912                  -0.293250                 -0.024155   \n",
       "4 -0.344757                  -0.293250                  0.329200   \n",
       "\n",
       "   Num of pregnancies    Smokes  Smokes (years)  Smokes (packs/year)  \\\n",
       "0           -0.849805 -0.423659       -0.295996            -0.194439   \n",
       "1            0.483821 -0.423659       -0.295996            -0.194439   \n",
       "2           -0.182992 -0.423659       -0.295996            -0.194439   \n",
       "3            1.150633 -0.423659       -0.295996            -0.194439   \n",
       "4           -0.849805 -0.423659       -0.295996            -0.194439   \n",
       "\n",
       "   Hormonal Contraceptives  Hormonal Contraceptives (years)       IUD  \\\n",
       "0                 0.797724                         0.186753  0.042722   \n",
       "1                -0.638179                        -0.519121  0.042722   \n",
       "2                 0.797724                         0.327928  0.042722   \n",
       "3                 0.797724                        -0.236772  0.042722   \n",
       "4                 0.797724                         0.892627  0.042722   \n",
       "\n",
       "   IUD (years)      STDs  STDs (number)  STDs:condylomatosis  \\\n",
       "0     -0.17431  0.024891      -0.089906             0.135851   \n",
       "1     -0.17431  0.024891      -0.089906             0.135851   \n",
       "2     -0.17431  0.024891      -0.089906             0.135851   \n",
       "3     -0.17431  0.024891      -0.089906             0.135851   \n",
       "4     -0.17431  0.024891      -0.089906             0.135851   \n",
       "\n",
       "   STDs:cervical condylomatosis  STDs:vaginal condylomatosis  \\\n",
       "0                      0.365148                     0.326023   \n",
       "1                      0.365148                     0.326023   \n",
       "2                      0.365148                     0.326023   \n",
       "3                      0.365148                     0.326023   \n",
       "4                      0.365148                     0.326023   \n",
       "\n",
       "   STDs:vulvo-perineal condylomatosis  STDs:syphilis  \\\n",
       "0                            0.141421       0.274411   \n",
       "1                            0.141421       0.274411   \n",
       "2                            0.141421       0.274411   \n",
       "3                            0.141421       0.274411   \n",
       "4                            0.141421       0.274411   \n",
       "\n",
       "   STDs:pelvic inflammatory disease  STDs:genital herpes  \\\n",
       "0                          0.354952             0.354952   \n",
       "1                          0.354952             0.354952   \n",
       "2                          0.354952             0.354952   \n",
       "3                          0.354952             0.354952   \n",
       "4                          0.354952             0.354952   \n",
       "\n",
       "   STDs:molluscum contagiosum  STDs:AIDS  STDs:HIV  Biopsy  target  \n",
       "0                    0.365148   0.365148  0.258738       0       1  \n",
       "1                    0.365148   0.365148  0.258738       0       1  \n",
       "2                    0.365148   0.365148  0.258738       0       1  \n",
       "3                    0.365148   0.365148  0.258738       0       1  \n",
       "4                    0.365148   0.365148  0.258738       0       1  "
      ]
     },
     "execution_count": 363,
     "metadata": {},
     "output_type": "execute_result"
    }
   ],
   "source": [
    "train1.head()"
   ]
  },
  {
   "cell_type": "markdown",
   "metadata": {},
   "source": [
    "##### **TEST1**"
   ]
  },
  {
   "cell_type": "code",
   "execution_count": 364,
   "metadata": {},
   "outputs": [],
   "source": [
    "X_test = X_test.applymap(lambda val: np.NaN if val =='?' else np.float(val))\n",
    "y_test = y_test.applymap(lambda val: np.int(val))"
   ]
  },
  {
   "cell_type": "code",
   "execution_count": 368,
   "metadata": {},
   "outputs": [],
   "source": [
    "ss_t = StandardScaler()"
   ]
  },
  {
   "cell_type": "code",
   "execution_count": 372,
   "metadata": {},
   "outputs": [],
   "source": [
    "ss_t.mean_ = ss.mean_\n",
    "ss_t.var_ = ss.var_\n",
    "ss_t.scale_ = ss.scale_"
   ]
  },
  {
   "cell_type": "code",
   "execution_count": null,
   "metadata": {},
   "outputs": [],
   "source": [
    "ss.scale_()"
   ]
  },
  {
   "cell_type": "code",
   "execution_count": 375,
   "metadata": {},
   "outputs": [
    {
     "data": {
      "text/plain": [
       "array([[-1.41630659,  1.15888421, -1.77329778, ...,  0.3398699 ,\n",
       "         0.25418068,  0.3398699 ],\n",
       "       [ 1.52681629, -1.15194479,  2.58284677, ...,  0.3398699 ,\n",
       "         0.25418068,  0.3398699 ],\n",
       "       [ 0.05525485, -1.15194479,  0.04176245, ...,  0.3398699 ,\n",
       "         0.25418068,  0.3398699 ],\n",
       "       ...,\n",
       "       [ 0.17788497, -0.38166845, -0.68426164, ...,  0.3398699 ,\n",
       "         0.25418068,  0.3398699 ],\n",
       "       [-1.17104635, -0.38166845, -0.68426164, ...,  0.3398699 ,\n",
       "         0.25418068,  0.3398699 ],\n",
       "       [ 0.79103557, -1.15194479,  5.48694314, ...,  0.3398699 ,\n",
       "         0.25418068,  0.3398699 ]])"
      ]
     },
     "execution_count": 375,
     "metadata": {},
     "output_type": "execute_result"
    }
   ],
   "source": [
    "ss_t.fit_transform(X_test.iloc[:,0:-1])"
   ]
  },
  {
   "cell_type": "code",
   "execution_count": 378,
   "metadata": {},
   "outputs": [
    {
     "data": {
      "text/plain": [
       "False"
      ]
     },
     "execution_count": 378,
     "metadata": {},
     "output_type": "execute_result"
    }
   ],
   "source": [
    "ss_t.mean_[1] == ss.mean_[1]"
   ]
  },
  {
   "cell_type": "code",
   "execution_count": 210,
   "metadata": {},
   "outputs": [],
   "source": [
    "test1 = pd.concat([X_test,y_test],axis=1)"
   ]
  },
  {
   "cell_type": "code",
   "execution_count": 211,
   "metadata": {},
   "outputs": [],
   "source": [
    "test1['target'] = 0"
   ]
  },
  {
   "cell_type": "code",
   "execution_count": 212,
   "metadata": {},
   "outputs": [
    {
     "data": {
      "text/plain": [
       "(344, 27)"
      ]
     },
     "execution_count": 212,
     "metadata": {},
     "output_type": "execute_result"
    }
   ],
   "source": [
    "test1.shape"
   ]
  },
  {
   "cell_type": "code",
   "execution_count": 213,
   "metadata": {},
   "outputs": [
    {
     "data": {
      "text/html": [
       "<div>\n",
       "<style scoped>\n",
       "    .dataframe tbody tr th:only-of-type {\n",
       "        vertical-align: middle;\n",
       "    }\n",
       "\n",
       "    .dataframe tbody tr th {\n",
       "        vertical-align: top;\n",
       "    }\n",
       "\n",
       "    .dataframe thead th {\n",
       "        text-align: right;\n",
       "    }\n",
       "</style>\n",
       "<table border=\"1\" class=\"dataframe\">\n",
       "  <thead>\n",
       "    <tr style=\"text-align: right;\">\n",
       "      <th></th>\n",
       "      <th>Age</th>\n",
       "      <th>Number of sexual partners</th>\n",
       "      <th>First sexual intercourse</th>\n",
       "      <th>Num of pregnancies</th>\n",
       "      <th>Smokes</th>\n",
       "      <th>Smokes (years)</th>\n",
       "      <th>Smokes (packs/year)</th>\n",
       "      <th>Hormonal Contraceptives</th>\n",
       "      <th>Hormonal Contraceptives (years)</th>\n",
       "      <th>IUD</th>\n",
       "      <th>IUD (years)</th>\n",
       "      <th>STDs</th>\n",
       "      <th>STDs (number)</th>\n",
       "      <th>STDs:condylomatosis</th>\n",
       "      <th>STDs:cervical condylomatosis</th>\n",
       "      <th>STDs:vaginal condylomatosis</th>\n",
       "      <th>STDs:vulvo-perineal condylomatosis</th>\n",
       "      <th>STDs:syphilis</th>\n",
       "      <th>STDs:pelvic inflammatory disease</th>\n",
       "      <th>STDs:genital herpes</th>\n",
       "      <th>STDs:molluscum contagiosum</th>\n",
       "      <th>STDs:AIDS</th>\n",
       "      <th>STDs:HIV</th>\n",
       "      <th>STDs:Hepatitis B</th>\n",
       "      <th>STDs:HPV</th>\n",
       "      <th>Biopsy</th>\n",
       "      <th>target</th>\n",
       "    </tr>\n",
       "  </thead>\n",
       "  <tbody>\n",
       "    <tr>\n",
       "      <th>554</th>\n",
       "      <td>15.0</td>\n",
       "      <td>4.0</td>\n",
       "      <td>12.0</td>\n",
       "      <td>1.0</td>\n",
       "      <td>0.0</td>\n",
       "      <td>0.0</td>\n",
       "      <td>0.0</td>\n",
       "      <td>1.0</td>\n",
       "      <td>1.0</td>\n",
       "      <td>0.0</td>\n",
       "      <td>0.0</td>\n",
       "      <td>0.0</td>\n",
       "      <td>0.0</td>\n",
       "      <td>0.0</td>\n",
       "      <td>0.0</td>\n",
       "      <td>0.0</td>\n",
       "      <td>0.0</td>\n",
       "      <td>0.0</td>\n",
       "      <td>0.0</td>\n",
       "      <td>0.0</td>\n",
       "      <td>0.0</td>\n",
       "      <td>0.0</td>\n",
       "      <td>0.0</td>\n",
       "      <td>0.0</td>\n",
       "      <td>0.0</td>\n",
       "      <td>0</td>\n",
       "      <td>0</td>\n",
       "    </tr>\n",
       "    <tr>\n",
       "      <th>38</th>\n",
       "      <td>39.0</td>\n",
       "      <td>1.0</td>\n",
       "      <td>24.0</td>\n",
       "      <td>4.0</td>\n",
       "      <td>0.0</td>\n",
       "      <td>0.0</td>\n",
       "      <td>0.0</td>\n",
       "      <td>0.0</td>\n",
       "      <td>0.0</td>\n",
       "      <td>0.0</td>\n",
       "      <td>0.0</td>\n",
       "      <td>0.0</td>\n",
       "      <td>0.0</td>\n",
       "      <td>0.0</td>\n",
       "      <td>0.0</td>\n",
       "      <td>0.0</td>\n",
       "      <td>0.0</td>\n",
       "      <td>0.0</td>\n",
       "      <td>0.0</td>\n",
       "      <td>0.0</td>\n",
       "      <td>0.0</td>\n",
       "      <td>0.0</td>\n",
       "      <td>0.0</td>\n",
       "      <td>0.0</td>\n",
       "      <td>0.0</td>\n",
       "      <td>0</td>\n",
       "      <td>0</td>\n",
       "    </tr>\n",
       "    <tr>\n",
       "      <th>11</th>\n",
       "      <td>27.0</td>\n",
       "      <td>1.0</td>\n",
       "      <td>17.0</td>\n",
       "      <td>3.0</td>\n",
       "      <td>0.0</td>\n",
       "      <td>0.0</td>\n",
       "      <td>0.0</td>\n",
       "      <td>1.0</td>\n",
       "      <td>8.0</td>\n",
       "      <td>0.0</td>\n",
       "      <td>0.0</td>\n",
       "      <td>0.0</td>\n",
       "      <td>0.0</td>\n",
       "      <td>0.0</td>\n",
       "      <td>0.0</td>\n",
       "      <td>0.0</td>\n",
       "      <td>0.0</td>\n",
       "      <td>0.0</td>\n",
       "      <td>0.0</td>\n",
       "      <td>0.0</td>\n",
       "      <td>0.0</td>\n",
       "      <td>0.0</td>\n",
       "      <td>0.0</td>\n",
       "      <td>0.0</td>\n",
       "      <td>0.0</td>\n",
       "      <td>0</td>\n",
       "      <td>0</td>\n",
       "    </tr>\n",
       "    <tr>\n",
       "      <th>501</th>\n",
       "      <td>32.0</td>\n",
       "      <td>1.0</td>\n",
       "      <td>22.0</td>\n",
       "      <td>2.0</td>\n",
       "      <td>0.0</td>\n",
       "      <td>0.0</td>\n",
       "      <td>0.0</td>\n",
       "      <td>1.0</td>\n",
       "      <td>7.0</td>\n",
       "      <td>0.0</td>\n",
       "      <td>0.0</td>\n",
       "      <td>0.0</td>\n",
       "      <td>0.0</td>\n",
       "      <td>0.0</td>\n",
       "      <td>0.0</td>\n",
       "      <td>0.0</td>\n",
       "      <td>0.0</td>\n",
       "      <td>0.0</td>\n",
       "      <td>0.0</td>\n",
       "      <td>0.0</td>\n",
       "      <td>0.0</td>\n",
       "      <td>0.0</td>\n",
       "      <td>0.0</td>\n",
       "      <td>0.0</td>\n",
       "      <td>0.0</td>\n",
       "      <td>0</td>\n",
       "      <td>0</td>\n",
       "    </tr>\n",
       "    <tr>\n",
       "      <th>375</th>\n",
       "      <td>22.0</td>\n",
       "      <td>1.0</td>\n",
       "      <td>16.0</td>\n",
       "      <td>3.0</td>\n",
       "      <td>0.0</td>\n",
       "      <td>0.0</td>\n",
       "      <td>0.0</td>\n",
       "      <td>1.0</td>\n",
       "      <td>1.0</td>\n",
       "      <td>0.0</td>\n",
       "      <td>0.0</td>\n",
       "      <td>0.0</td>\n",
       "      <td>0.0</td>\n",
       "      <td>0.0</td>\n",
       "      <td>0.0</td>\n",
       "      <td>0.0</td>\n",
       "      <td>0.0</td>\n",
       "      <td>0.0</td>\n",
       "      <td>0.0</td>\n",
       "      <td>0.0</td>\n",
       "      <td>0.0</td>\n",
       "      <td>0.0</td>\n",
       "      <td>0.0</td>\n",
       "      <td>0.0</td>\n",
       "      <td>0.0</td>\n",
       "      <td>0</td>\n",
       "      <td>0</td>\n",
       "    </tr>\n",
       "  </tbody>\n",
       "</table>\n",
       "</div>"
      ],
      "text/plain": [
       "      Age  Number of sexual partners  First sexual intercourse  \\\n",
       "554  15.0                        4.0                      12.0   \n",
       "38   39.0                        1.0                      24.0   \n",
       "11   27.0                        1.0                      17.0   \n",
       "501  32.0                        1.0                      22.0   \n",
       "375  22.0                        1.0                      16.0   \n",
       "\n",
       "     Num of pregnancies  Smokes  Smokes (years)  Smokes (packs/year)  \\\n",
       "554                 1.0     0.0             0.0                  0.0   \n",
       "38                  4.0     0.0             0.0                  0.0   \n",
       "11                  3.0     0.0             0.0                  0.0   \n",
       "501                 2.0     0.0             0.0                  0.0   \n",
       "375                 3.0     0.0             0.0                  0.0   \n",
       "\n",
       "     Hormonal Contraceptives  Hormonal Contraceptives (years)  IUD  \\\n",
       "554                      1.0                              1.0  0.0   \n",
       "38                       0.0                              0.0  0.0   \n",
       "11                       1.0                              8.0  0.0   \n",
       "501                      1.0                              7.0  0.0   \n",
       "375                      1.0                              1.0  0.0   \n",
       "\n",
       "     IUD (years)  STDs  STDs (number)  STDs:condylomatosis  \\\n",
       "554          0.0   0.0            0.0                  0.0   \n",
       "38           0.0   0.0            0.0                  0.0   \n",
       "11           0.0   0.0            0.0                  0.0   \n",
       "501          0.0   0.0            0.0                  0.0   \n",
       "375          0.0   0.0            0.0                  0.0   \n",
       "\n",
       "     STDs:cervical condylomatosis  STDs:vaginal condylomatosis  \\\n",
       "554                           0.0                          0.0   \n",
       "38                            0.0                          0.0   \n",
       "11                            0.0                          0.0   \n",
       "501                           0.0                          0.0   \n",
       "375                           0.0                          0.0   \n",
       "\n",
       "     STDs:vulvo-perineal condylomatosis  STDs:syphilis  \\\n",
       "554                                 0.0            0.0   \n",
       "38                                  0.0            0.0   \n",
       "11                                  0.0            0.0   \n",
       "501                                 0.0            0.0   \n",
       "375                                 0.0            0.0   \n",
       "\n",
       "     STDs:pelvic inflammatory disease  STDs:genital herpes  \\\n",
       "554                               0.0                  0.0   \n",
       "38                                0.0                  0.0   \n",
       "11                                0.0                  0.0   \n",
       "501                               0.0                  0.0   \n",
       "375                               0.0                  0.0   \n",
       "\n",
       "     STDs:molluscum contagiosum  STDs:AIDS  STDs:HIV  STDs:Hepatitis B  \\\n",
       "554                         0.0        0.0       0.0               0.0   \n",
       "38                          0.0        0.0       0.0               0.0   \n",
       "11                          0.0        0.0       0.0               0.0   \n",
       "501                         0.0        0.0       0.0               0.0   \n",
       "375                         0.0        0.0       0.0               0.0   \n",
       "\n",
       "     STDs:HPV  Biopsy  target  \n",
       "554       0.0       0       0  \n",
       "38        0.0       0       0  \n",
       "11        0.0       0       0  \n",
       "501       0.0       0       0  \n",
       "375       0.0       0       0  "
      ]
     },
     "execution_count": 213,
     "metadata": {},
     "output_type": "execute_result"
    }
   ],
   "source": [
    "test1.head()"
   ]
  },
  {
   "cell_type": "markdown",
   "metadata": {},
   "source": [
    "##### **Imputing Missing Values in `train1` and `test1` using KNN Imputer**"
   ]
  },
  {
   "cell_type": "code",
   "execution_count": 203,
   "metadata": {},
   "outputs": [],
   "source": [
    "knn_imputer = KNNImputer(n_neighbors=7,weights='distance')"
   ]
  },
  {
   "cell_type": "code",
   "execution_count": 204,
   "metadata": {},
   "outputs": [],
   "source": [
    "train1_missing_removed = pd.DataFrame(knn_imputer.fit_transform(train1),columns=train1.columns)"
   ]
  },
  {
   "cell_type": "code",
   "execution_count": 214,
   "metadata": {},
   "outputs": [],
   "source": [
    "test1_missing_removed = pd.DataFrame(knn_imputer.fit_transform(test1),columns=test1.columns)"
   ]
  },
  {
   "cell_type": "markdown",
   "metadata": {},
   "source": [
    "##### **Model training on `train1` and testing on `test1`**"
   ]
  },
  {
   "cell_type": "code",
   "execution_count": 206,
   "metadata": {},
   "outputs": [],
   "source": [
    "dt = DecisionTreeClassifier()\n",
    "knn = KNeighborsClassifier(n_neighbors=7)"
   ]
  },
  {
   "cell_type": "code",
   "execution_count": 217,
   "metadata": {},
   "outputs": [],
   "source": [
    "dt_model = dt.fit(train1_missing_removed.iloc[:,0:-1],train1_missing_removed['target'])"
   ]
  },
  {
   "cell_type": "code",
   "execution_count": 218,
   "metadata": {},
   "outputs": [],
   "source": [
    "knn_model = knn.fit(train1_missing_removed.iloc[:,0:-1],train1_missing_removed['target'])"
   ]
  },
  {
   "cell_type": "markdown",
   "metadata": {},
   "source": [
    "##### **Decision Tree :: Results**"
   ]
  },
  {
   "cell_type": "code",
   "execution_count": 219,
   "metadata": {},
   "outputs": [],
   "source": [
    "y_pred = dt_model.predict(test1_missing_removed.iloc[:,0:-1])"
   ]
  },
  {
   "cell_type": "code",
   "execution_count": 220,
   "metadata": {},
   "outputs": [
    {
     "data": {
      "text/plain": [
       "(0.06395348837209303, 1.0, 0.06395348837209303)"
      ]
     },
     "execution_count": 220,
     "metadata": {},
     "output_type": "execute_result"
    }
   ],
   "source": [
    "accuracy_score(y_pred,y_test), precision_score(y_pred,y_test), recall_score(y_pred,y_test)"
   ]
  },
  {
   "cell_type": "code",
   "execution_count": 221,
   "metadata": {},
   "outputs": [
    {
     "data": {
      "text/plain": [
       "array([[  0,   0],\n",
       "       [322,  22]], dtype=int64)"
      ]
     },
     "execution_count": 221,
     "metadata": {},
     "output_type": "execute_result"
    }
   ],
   "source": [
    "confusion_matrix(y_pred,y_test)"
   ]
  },
  {
   "cell_type": "code",
   "execution_count": 225,
   "metadata": {},
   "outputs": [
    {
     "data": {
      "text/plain": [
       "array([1., 1., 1., 1., 1., 1., 1., 1., 1., 1., 1., 1., 1., 1., 1., 1., 1.,\n",
       "       1., 1., 1., 1., 1., 1., 1., 1., 1., 1., 1., 1., 1., 1., 1., 1., 1.,\n",
       "       1., 1., 1., 1., 1., 1., 1., 1., 1., 1., 1., 1., 1., 1., 1., 1., 1.,\n",
       "       1., 1., 1., 1., 1., 1., 1., 1., 1., 1., 1., 1., 1., 1., 1., 1., 1.,\n",
       "       1., 1., 1., 1., 1., 1., 1., 1., 1., 1., 1., 1., 1., 1., 1., 1., 1.,\n",
       "       1., 1., 1., 1., 1., 1., 1., 1., 1., 1., 1., 1., 1., 1., 1., 1., 1.,\n",
       "       1., 1., 1., 1., 1., 1., 1., 1., 1., 1., 1., 1., 1., 1., 1., 1., 1.,\n",
       "       1., 1., 1., 1., 1., 1., 1., 1., 1., 1., 1., 1., 1., 1., 1., 1., 1.,\n",
       "       1., 1., 1., 1., 1., 1., 1., 1., 1., 1., 1., 1., 1., 1., 1., 1., 1.,\n",
       "       1., 1., 1., 1., 1., 1., 1., 1., 1., 1., 1., 1., 1., 1., 1., 1., 1.,\n",
       "       1., 1., 1., 1., 1., 1., 1., 1., 1., 1., 1., 1., 1., 1., 1., 1., 1.,\n",
       "       1., 1., 1., 1., 1., 1., 1., 1., 1., 1., 1., 1., 1., 1., 1., 1., 1.,\n",
       "       1., 1., 1., 1., 1., 1., 1., 1., 1., 1., 1., 1., 1., 1., 1., 1., 1.,\n",
       "       1., 1., 1., 1., 1., 1., 1., 1., 1., 1., 1., 1., 1., 1., 1., 1., 1.,\n",
       "       1., 1., 1., 1., 1., 1., 1., 1., 1., 1., 1., 1., 1., 1., 1., 1., 1.,\n",
       "       1., 1., 1., 1., 1., 1., 1., 1., 1., 1., 1., 1., 1., 1., 1., 1., 1.,\n",
       "       1., 1., 1., 1., 1., 1., 1., 1., 1., 1., 1., 1., 1., 1., 1., 1., 1.,\n",
       "       1., 1., 1., 1., 1., 1., 1., 1., 1., 1., 1., 1., 1., 1., 1., 1., 1.,\n",
       "       1., 1., 1., 1., 1., 1., 1., 1., 1., 1., 1., 1., 1., 1., 1., 1., 1.,\n",
       "       1., 1., 1., 1., 1., 1., 1., 1., 1., 1., 1., 1., 1., 1., 1., 1., 1.,\n",
       "       1., 1., 1., 1.])"
      ]
     },
     "execution_count": 225,
     "metadata": {},
     "output_type": "execute_result"
    }
   ],
   "source": [
    "y_pred"
   ]
  },
  {
   "cell_type": "markdown",
   "metadata": {},
   "source": [
    "##### **KNN :: Results**"
   ]
  },
  {
   "cell_type": "code",
   "execution_count": 222,
   "metadata": {},
   "outputs": [],
   "source": [
    "y_pred_knn = knn_model.predict(test1_missing_removed.iloc[:,0:-1])"
   ]
  },
  {
   "cell_type": "code",
   "execution_count": 223,
   "metadata": {},
   "outputs": [
    {
     "data": {
      "text/plain": [
       "(0.06395348837209303, 1.0, 0.06395348837209303)"
      ]
     },
     "execution_count": 223,
     "metadata": {},
     "output_type": "execute_result"
    }
   ],
   "source": [
    "accuracy_score(y_pred_knn,y_test['Biopsy']), precision_score(y_pred_knn,y_test['Biopsy']), recall_score(y_pred_knn,y_test['Biopsy'])"
   ]
  },
  {
   "cell_type": "code",
   "execution_count": 224,
   "metadata": {},
   "outputs": [
    {
     "data": {
      "text/plain": [
       "array([[  0,   0],\n",
       "       [322,  22]], dtype=int64)"
      ]
     },
     "execution_count": 224,
     "metadata": {},
     "output_type": "execute_result"
    }
   ],
   "source": [
    "confusion_matrix(y_pred_knn,y_test)"
   ]
  },
  {
   "cell_type": "code",
   "execution_count": 226,
   "metadata": {},
   "outputs": [
    {
     "data": {
      "text/plain": [
       "array([1., 1., 1., 1., 1., 1., 1., 1., 1., 1., 1., 1., 1., 1., 1., 1., 1.,\n",
       "       1., 1., 1., 1., 1., 1., 1., 1., 1., 1., 1., 1., 1., 1., 1., 1., 1.,\n",
       "       1., 1., 1., 1., 1., 1., 1., 1., 1., 1., 1., 1., 1., 1., 1., 1., 1.,\n",
       "       1., 1., 1., 1., 1., 1., 1., 1., 1., 1., 1., 1., 1., 1., 1., 1., 1.,\n",
       "       1., 1., 1., 1., 1., 1., 1., 1., 1., 1., 1., 1., 1., 1., 1., 1., 1.,\n",
       "       1., 1., 1., 1., 1., 1., 1., 1., 1., 1., 1., 1., 1., 1., 1., 1., 1.,\n",
       "       1., 1., 1., 1., 1., 1., 1., 1., 1., 1., 1., 1., 1., 1., 1., 1., 1.,\n",
       "       1., 1., 1., 1., 1., 1., 1., 1., 1., 1., 1., 1., 1., 1., 1., 1., 1.,\n",
       "       1., 1., 1., 1., 1., 1., 1., 1., 1., 1., 1., 1., 1., 1., 1., 1., 1.,\n",
       "       1., 1., 1., 1., 1., 1., 1., 1., 1., 1., 1., 1., 1., 1., 1., 1., 1.,\n",
       "       1., 1., 1., 1., 1., 1., 1., 1., 1., 1., 1., 1., 1., 1., 1., 1., 1.,\n",
       "       1., 1., 1., 1., 1., 1., 1., 1., 1., 1., 1., 1., 1., 1., 1., 1., 1.,\n",
       "       1., 1., 1., 1., 1., 1., 1., 1., 1., 1., 1., 1., 1., 1., 1., 1., 1.,\n",
       "       1., 1., 1., 1., 1., 1., 1., 1., 1., 1., 1., 1., 1., 1., 1., 1., 1.,\n",
       "       1., 1., 1., 1., 1., 1., 1., 1., 1., 1., 1., 1., 1., 1., 1., 1., 1.,\n",
       "       1., 1., 1., 1., 1., 1., 1., 1., 1., 1., 1., 1., 1., 1., 1., 1., 1.,\n",
       "       1., 1., 1., 1., 1., 1., 1., 1., 1., 1., 1., 1., 1., 1., 1., 1., 1.,\n",
       "       1., 1., 1., 1., 1., 1., 1., 1., 1., 1., 1., 1., 1., 1., 1., 1., 1.,\n",
       "       1., 1., 1., 1., 1., 1., 1., 1., 1., 1., 1., 1., 1., 1., 1., 1., 1.,\n",
       "       1., 1., 1., 1., 1., 1., 1., 1., 1., 1., 1., 1., 1., 1., 1., 1., 1.,\n",
       "       1., 1., 1., 1.])"
      ]
     },
     "execution_count": 226,
     "metadata": {},
     "output_type": "execute_result"
    }
   ],
   "source": [
    "y_pred_knn"
   ]
  },
  {
   "cell_type": "markdown",
   "metadata": {},
   "source": [
    "#### **The above results are saying that both TRAIN and TEST sets are entirely similar and not separable. Thus, we are good to go ahead.**"
   ]
  },
  {
   "cell_type": "markdown",
   "metadata": {},
   "source": [
    "## **`Filling_Missing_Values`**\n",
    "##### *Here, I'll work on imputing the missing values in TRAIN set.*"
   ]
  },
  {
   "cell_type": "code",
   "execution_count": 238,
   "metadata": {},
   "outputs": [],
   "source": [
    "nulls_percentage_df = compute_null_percentage(data_df=X1)"
   ]
  },
  {
   "cell_type": "code",
   "execution_count": 239,
   "metadata": {},
   "outputs": [
    {
     "data": {
      "image/png": "[encoded data removed]",
      "text/plain": [
       "<Figure size 1152x936 with 1 Axes>"
      ]
     },
     "metadata": {
      "needs_background": "light"
     },
     "output_type": "display_data"
    }
   ],
   "source": [
    "with plt.style.context('seaborn-poster'):\n",
    "    plt.figure(figsize=(16,13))\n",
    "    sns.barplot(y='Feature_Name',x='NULL Percentage',data=nulls_percentage_df,palette='cubehelix')\n",
    "    plt.xlabel('Nulls (%)',fontdict=label_dict)\n",
    "    plt.ylabel('Features',fontdict=label_dict)\n",
    "    plt.title('Nulls percentage in all the features',fontdict=title_dict)\n",
    "    plt.xticks(np.arange(0,101,10))\n",
    "    plt.yticks(size=14,rotation=0,style='italic',color='k')"
   ]
  },
  {
   "cell_type": "code",
   "execution_count": 109,
   "metadata": {},
   "outputs": [
    {
     "data": {
      "text/html": [
       "<div>\n",
       "<style scoped>\n",
       "    .dataframe tbody tr th:only-of-type {\n",
       "        vertical-align: middle;\n",
       "    }\n",
       "\n",
       "    .dataframe tbody tr th {\n",
       "        vertical-align: top;\n",
       "    }\n",
       "\n",
       "    .dataframe thead th {\n",
       "        text-align: right;\n",
       "    }\n",
       "</style>\n",
       "<table border=\"1\" class=\"dataframe\">\n",
       "  <thead>\n",
       "    <tr style=\"text-align: right;\">\n",
       "      <th></th>\n",
       "      <th>Age</th>\n",
       "      <th>Number of sexual partners</th>\n",
       "      <th>First sexual intercourse</th>\n",
       "      <th>Num of pregnancies</th>\n",
       "      <th>Smokes</th>\n",
       "      <th>Smokes (years)</th>\n",
       "      <th>Smokes (packs/year)</th>\n",
       "      <th>Hormonal Contraceptives</th>\n",
       "      <th>Hormonal Contraceptives (years)</th>\n",
       "      <th>IUD</th>\n",
       "      <th>IUD (years)</th>\n",
       "      <th>STDs</th>\n",
       "      <th>STDs (number)</th>\n",
       "      <th>STDs:condylomatosis</th>\n",
       "      <th>STDs:cervical condylomatosis</th>\n",
       "      <th>STDs:vaginal condylomatosis</th>\n",
       "      <th>STDs:vulvo-perineal condylomatosis</th>\n",
       "      <th>STDs:syphilis</th>\n",
       "      <th>STDs:pelvic inflammatory disease</th>\n",
       "      <th>STDs:genital herpes</th>\n",
       "      <th>STDs:molluscum contagiosum</th>\n",
       "      <th>STDs:AIDS</th>\n",
       "      <th>STDs:HIV</th>\n",
       "      <th>STDs:Hepatitis B</th>\n",
       "      <th>STDs:HPV</th>\n",
       "      <th>Updt_Dx</th>\n",
       "    </tr>\n",
       "  </thead>\n",
       "  <tbody>\n",
       "    <tr>\n",
       "      <th>834</th>\n",
       "      <td>30</td>\n",
       "      <td>3.0</td>\n",
       "      <td>15.0</td>\n",
       "      <td>0.0</td>\n",
       "      <td>1.0</td>\n",
       "      <td>16.0</td>\n",
       "      <td>8.0</td>\n",
       "      <td>0.0</td>\n",
       "      <td>0.0</td>\n",
       "      <td>0.0</td>\n",
       "      <td>0.0</td>\n",
       "      <td>0.0</td>\n",
       "      <td>0.0</td>\n",
       "      <td>0.0</td>\n",
       "      <td>0.0</td>\n",
       "      <td>0.0</td>\n",
       "      <td>0.0</td>\n",
       "      <td>0.0</td>\n",
       "      <td>0.0</td>\n",
       "      <td>0.0</td>\n",
       "      <td>0.0</td>\n",
       "      <td>0.0</td>\n",
       "      <td>0.0</td>\n",
       "      <td>0.0</td>\n",
       "      <td>0.0</td>\n",
       "      <td>0</td>\n",
       "    </tr>\n",
       "    <tr>\n",
       "      <th>799</th>\n",
       "      <td>19</td>\n",
       "      <td>3.0</td>\n",
       "      <td>14.0</td>\n",
       "      <td>2.0</td>\n",
       "      <td>0.0</td>\n",
       "      <td>0.0</td>\n",
       "      <td>0.0</td>\n",
       "      <td>0.0</td>\n",
       "      <td>0.0</td>\n",
       "      <td>0.0</td>\n",
       "      <td>0.0</td>\n",
       "      <td>0.0</td>\n",
       "      <td>0.0</td>\n",
       "      <td>0.0</td>\n",
       "      <td>0.0</td>\n",
       "      <td>0.0</td>\n",
       "      <td>0.0</td>\n",
       "      <td>0.0</td>\n",
       "      <td>0.0</td>\n",
       "      <td>0.0</td>\n",
       "      <td>0.0</td>\n",
       "      <td>0.0</td>\n",
       "      <td>0.0</td>\n",
       "      <td>0.0</td>\n",
       "      <td>0.0</td>\n",
       "      <td>0</td>\n",
       "    </tr>\n",
       "    <tr>\n",
       "      <th>658</th>\n",
       "      <td>18</td>\n",
       "      <td>2.0</td>\n",
       "      <td>14.0</td>\n",
       "      <td>2.0</td>\n",
       "      <td>0.0</td>\n",
       "      <td>0.0</td>\n",
       "      <td>0.0</td>\n",
       "      <td>1.0</td>\n",
       "      <td>1.0</td>\n",
       "      <td>0.0</td>\n",
       "      <td>0.0</td>\n",
       "      <td>0.0</td>\n",
       "      <td>0.0</td>\n",
       "      <td>0.0</td>\n",
       "      <td>0.0</td>\n",
       "      <td>0.0</td>\n",
       "      <td>0.0</td>\n",
       "      <td>0.0</td>\n",
       "      <td>0.0</td>\n",
       "      <td>0.0</td>\n",
       "      <td>0.0</td>\n",
       "      <td>0.0</td>\n",
       "      <td>0.0</td>\n",
       "      <td>0.0</td>\n",
       "      <td>0.0</td>\n",
       "      <td>0</td>\n",
       "    </tr>\n",
       "    <tr>\n",
       "      <th>54</th>\n",
       "      <td>36</td>\n",
       "      <td>1.0</td>\n",
       "      <td>16.0</td>\n",
       "      <td>3.0</td>\n",
       "      <td>0.0</td>\n",
       "      <td>0.0</td>\n",
       "      <td>0.0</td>\n",
       "      <td>1.0</td>\n",
       "      <td>11.0</td>\n",
       "      <td>0.0</td>\n",
       "      <td>0.0</td>\n",
       "      <td>0.0</td>\n",
       "      <td>0.0</td>\n",
       "      <td>0.0</td>\n",
       "      <td>0.0</td>\n",
       "      <td>0.0</td>\n",
       "      <td>0.0</td>\n",
       "      <td>0.0</td>\n",
       "      <td>0.0</td>\n",
       "      <td>0.0</td>\n",
       "      <td>0.0</td>\n",
       "      <td>0.0</td>\n",
       "      <td>0.0</td>\n",
       "      <td>0.0</td>\n",
       "      <td>0.0</td>\n",
       "      <td>0</td>\n",
       "    </tr>\n",
       "    <tr>\n",
       "      <th>310</th>\n",
       "      <td>23</td>\n",
       "      <td>2.0</td>\n",
       "      <td>18.0</td>\n",
       "      <td>1.0</td>\n",
       "      <td>0.0</td>\n",
       "      <td>0.0</td>\n",
       "      <td>0.0</td>\n",
       "      <td>1.0</td>\n",
       "      <td>0.58</td>\n",
       "      <td>0.0</td>\n",
       "      <td>0.0</td>\n",
       "      <td>0.0</td>\n",
       "      <td>0.0</td>\n",
       "      <td>0.0</td>\n",
       "      <td>0.0</td>\n",
       "      <td>0.0</td>\n",
       "      <td>0.0</td>\n",
       "      <td>0.0</td>\n",
       "      <td>0.0</td>\n",
       "      <td>0.0</td>\n",
       "      <td>0.0</td>\n",
       "      <td>0.0</td>\n",
       "      <td>0.0</td>\n",
       "      <td>0.0</td>\n",
       "      <td>0.0</td>\n",
       "      <td>0</td>\n",
       "    </tr>\n",
       "    <tr>\n",
       "      <th>...</th>\n",
       "      <td>...</td>\n",
       "      <td>...</td>\n",
       "      <td>...</td>\n",
       "      <td>...</td>\n",
       "      <td>...</td>\n",
       "      <td>...</td>\n",
       "      <td>...</td>\n",
       "      <td>...</td>\n",
       "      <td>...</td>\n",
       "      <td>...</td>\n",
       "      <td>...</td>\n",
       "      <td>...</td>\n",
       "      <td>...</td>\n",
       "      <td>...</td>\n",
       "      <td>...</td>\n",
       "      <td>...</td>\n",
       "      <td>...</td>\n",
       "      <td>...</td>\n",
       "      <td>...</td>\n",
       "      <td>...</td>\n",
       "      <td>...</td>\n",
       "      <td>...</td>\n",
       "      <td>...</td>\n",
       "      <td>...</td>\n",
       "      <td>...</td>\n",
       "      <td>...</td>\n",
       "    </tr>\n",
       "    <tr>\n",
       "      <th>66</th>\n",
       "      <td>34</td>\n",
       "      <td>3.0</td>\n",
       "      <td>19.0</td>\n",
       "      <td>3.0</td>\n",
       "      <td>0.0</td>\n",
       "      <td>0.0</td>\n",
       "      <td>0.0</td>\n",
       "      <td>1.0</td>\n",
       "      <td>5.0</td>\n",
       "      <td>0.0</td>\n",
       "      <td>0.0</td>\n",
       "      <td>0.0</td>\n",
       "      <td>0.0</td>\n",
       "      <td>0.0</td>\n",
       "      <td>0.0</td>\n",
       "      <td>0.0</td>\n",
       "      <td>0.0</td>\n",
       "      <td>0.0</td>\n",
       "      <td>0.0</td>\n",
       "      <td>0.0</td>\n",
       "      <td>0.0</td>\n",
       "      <td>0.0</td>\n",
       "      <td>0.0</td>\n",
       "      <td>0.0</td>\n",
       "      <td>0.0</td>\n",
       "      <td>0</td>\n",
       "    </tr>\n",
       "    <tr>\n",
       "      <th>653</th>\n",
       "      <td>21</td>\n",
       "      <td>1.0</td>\n",
       "      <td>17.0</td>\n",
       "      <td>?</td>\n",
       "      <td>0.0</td>\n",
       "      <td>0.0</td>\n",
       "      <td>0.0</td>\n",
       "      <td>1.0</td>\n",
       "      <td>3.0</td>\n",
       "      <td>0.0</td>\n",
       "      <td>0.0</td>\n",
       "      <td>0.0</td>\n",
       "      <td>0.0</td>\n",
       "      <td>0.0</td>\n",
       "      <td>0.0</td>\n",
       "      <td>0.0</td>\n",
       "      <td>0.0</td>\n",
       "      <td>0.0</td>\n",
       "      <td>0.0</td>\n",
       "      <td>0.0</td>\n",
       "      <td>0.0</td>\n",
       "      <td>0.0</td>\n",
       "      <td>0.0</td>\n",
       "      <td>0.0</td>\n",
       "      <td>0.0</td>\n",
       "      <td>1</td>\n",
       "    </tr>\n",
       "    <tr>\n",
       "      <th>68</th>\n",
       "      <td>35</td>\n",
       "      <td>3.0</td>\n",
       "      <td>20.0</td>\n",
       "      <td>2.0</td>\n",
       "      <td>0.0</td>\n",
       "      <td>0.0</td>\n",
       "      <td>0.0</td>\n",
       "      <td>0.0</td>\n",
       "      <td>0.0</td>\n",
       "      <td>1.0</td>\n",
       "      <td>10.0</td>\n",
       "      <td>1.0</td>\n",
       "      <td>2.0</td>\n",
       "      <td>1.0</td>\n",
       "      <td>0.0</td>\n",
       "      <td>0.0</td>\n",
       "      <td>1.0</td>\n",
       "      <td>0.0</td>\n",
       "      <td>0.0</td>\n",
       "      <td>0.0</td>\n",
       "      <td>0.0</td>\n",
       "      <td>0.0</td>\n",
       "      <td>0.0</td>\n",
       "      <td>0.0</td>\n",
       "      <td>0.0</td>\n",
       "      <td>0</td>\n",
       "    </tr>\n",
       "    <tr>\n",
       "      <th>640</th>\n",
       "      <td>32</td>\n",
       "      <td>4.0</td>\n",
       "      <td>18.0</td>\n",
       "      <td>3.0</td>\n",
       "      <td>0.0</td>\n",
       "      <td>0.0</td>\n",
       "      <td>0.0</td>\n",
       "      <td>1.0</td>\n",
       "      <td>8.0</td>\n",
       "      <td>0.0</td>\n",
       "      <td>0.0</td>\n",
       "      <td>0.0</td>\n",
       "      <td>0.0</td>\n",
       "      <td>0.0</td>\n",
       "      <td>0.0</td>\n",
       "      <td>0.0</td>\n",
       "      <td>0.0</td>\n",
       "      <td>0.0</td>\n",
       "      <td>0.0</td>\n",
       "      <td>0.0</td>\n",
       "      <td>0.0</td>\n",
       "      <td>0.0</td>\n",
       "      <td>0.0</td>\n",
       "      <td>0.0</td>\n",
       "      <td>0.0</td>\n",
       "      <td>0</td>\n",
       "    </tr>\n",
       "    <tr>\n",
       "      <th>415</th>\n",
       "      <td>18</td>\n",
       "      <td>3.0</td>\n",
       "      <td>15.0</td>\n",
       "      <td>2.0</td>\n",
       "      <td>0.0</td>\n",
       "      <td>0.0</td>\n",
       "      <td>0.0</td>\n",
       "      <td>0.0</td>\n",
       "      <td>0.0</td>\n",
       "      <td>0.0</td>\n",
       "      <td>0.0</td>\n",
       "      <td>0.0</td>\n",
       "      <td>0.0</td>\n",
       "      <td>0.0</td>\n",
       "      <td>0.0</td>\n",
       "      <td>0.0</td>\n",
       "      <td>0.0</td>\n",
       "      <td>0.0</td>\n",
       "      <td>0.0</td>\n",
       "      <td>0.0</td>\n",
       "      <td>0.0</td>\n",
       "      <td>0.0</td>\n",
       "      <td>0.0</td>\n",
       "      <td>0.0</td>\n",
       "      <td>0.0</td>\n",
       "      <td>0</td>\n",
       "    </tr>\n",
       "  </tbody>\n",
       "</table>\n",
       "<p>514 rows × 26 columns</p>\n",
       "</div>"
      ],
      "text/plain": [
       "     Age Number of sexual partners First sexual intercourse  \\\n",
       "834   30                       3.0                     15.0   \n",
       "799   19                       3.0                     14.0   \n",
       "658   18                       2.0                     14.0   \n",
       "54    36                       1.0                     16.0   \n",
       "310   23                       2.0                     18.0   \n",
       "..   ...                       ...                      ...   \n",
       "66    34                       3.0                     19.0   \n",
       "653   21                       1.0                     17.0   \n",
       "68    35                       3.0                     20.0   \n",
       "640   32                       4.0                     18.0   \n",
       "415   18                       3.0                     15.0   \n",
       "\n",
       "    Num of pregnancies Smokes Smokes (years) Smokes (packs/year)  \\\n",
       "834                0.0    1.0           16.0                 8.0   \n",
       "799                2.0    0.0            0.0                 0.0   \n",
       "658                2.0    0.0            0.0                 0.0   \n",
       "54                 3.0    0.0            0.0                 0.0   \n",
       "310                1.0    0.0            0.0                 0.0   \n",
       "..                 ...    ...            ...                 ...   \n",
       "66                 3.0    0.0            0.0                 0.0   \n",
       "653                  ?    0.0            0.0                 0.0   \n",
       "68                 2.0    0.0            0.0                 0.0   \n",
       "640                3.0    0.0            0.0                 0.0   \n",
       "415                2.0    0.0            0.0                 0.0   \n",
       "\n",
       "    Hormonal Contraceptives Hormonal Contraceptives (years)  IUD IUD (years)  \\\n",
       "834                     0.0                             0.0  0.0         0.0   \n",
       "799                     0.0                             0.0  0.0         0.0   \n",
       "658                     1.0                             1.0  0.0         0.0   \n",
       "54                      1.0                            11.0  0.0         0.0   \n",
       "310                     1.0                            0.58  0.0         0.0   \n",
       "..                      ...                             ...  ...         ...   \n",
       "66                      1.0                             5.0  0.0         0.0   \n",
       "653                     1.0                             3.0  0.0         0.0   \n",
       "68                      0.0                             0.0  1.0        10.0   \n",
       "640                     1.0                             8.0  0.0         0.0   \n",
       "415                     0.0                             0.0  0.0         0.0   \n",
       "\n",
       "    STDs STDs (number) STDs:condylomatosis STDs:cervical condylomatosis  \\\n",
       "834  0.0           0.0                 0.0                          0.0   \n",
       "799  0.0           0.0                 0.0                          0.0   \n",
       "658  0.0           0.0                 0.0                          0.0   \n",
       "54   0.0           0.0                 0.0                          0.0   \n",
       "310  0.0           0.0                 0.0                          0.0   \n",
       "..   ...           ...                 ...                          ...   \n",
       "66   0.0           0.0                 0.0                          0.0   \n",
       "653  0.0           0.0                 0.0                          0.0   \n",
       "68   1.0           2.0                 1.0                          0.0   \n",
       "640  0.0           0.0                 0.0                          0.0   \n",
       "415  0.0           0.0                 0.0                          0.0   \n",
       "\n",
       "    STDs:vaginal condylomatosis STDs:vulvo-perineal condylomatosis  \\\n",
       "834                         0.0                                0.0   \n",
       "799                         0.0                                0.0   \n",
       "658                         0.0                                0.0   \n",
       "54                          0.0                                0.0   \n",
       "310                         0.0                                0.0   \n",
       "..                          ...                                ...   \n",
       "66                          0.0                                0.0   \n",
       "653                         0.0                                0.0   \n",
       "68                          0.0                                1.0   \n",
       "640                         0.0                                0.0   \n",
       "415                         0.0                                0.0   \n",
       "\n",
       "    STDs:syphilis STDs:pelvic inflammatory disease STDs:genital herpes  \\\n",
       "834           0.0                              0.0                 0.0   \n",
       "799           0.0                              0.0                 0.0   \n",
       "658           0.0                              0.0                 0.0   \n",
       "54            0.0                              0.0                 0.0   \n",
       "310           0.0                              0.0                 0.0   \n",
       "..            ...                              ...                 ...   \n",
       "66            0.0                              0.0                 0.0   \n",
       "653           0.0                              0.0                 0.0   \n",
       "68            0.0                              0.0                 0.0   \n",
       "640           0.0                              0.0                 0.0   \n",
       "415           0.0                              0.0                 0.0   \n",
       "\n",
       "    STDs:molluscum contagiosum STDs:AIDS STDs:HIV STDs:Hepatitis B STDs:HPV  \\\n",
       "834                        0.0       0.0      0.0              0.0      0.0   \n",
       "799                        0.0       0.0      0.0              0.0      0.0   \n",
       "658                        0.0       0.0      0.0              0.0      0.0   \n",
       "54                         0.0       0.0      0.0              0.0      0.0   \n",
       "310                        0.0       0.0      0.0              0.0      0.0   \n",
       "..                         ...       ...      ...              ...      ...   \n",
       "66                         0.0       0.0      0.0              0.0      0.0   \n",
       "653                        0.0       0.0      0.0              0.0      0.0   \n",
       "68                         0.0       0.0      0.0              0.0      0.0   \n",
       "640                        0.0       0.0      0.0              0.0      0.0   \n",
       "415                        0.0       0.0      0.0              0.0      0.0   \n",
       "\n",
       "     Updt_Dx  \n",
       "834        0  \n",
       "799        0  \n",
       "658        0  \n",
       "54         0  \n",
       "310        0  \n",
       "..       ...  \n",
       "66         0  \n",
       "653        1  \n",
       "68         0  \n",
       "640        0  \n",
       "415        0  \n",
       "\n",
       "[514 rows x 26 columns]"
      ]
     },
     "execution_count": 109,
     "metadata": {},
     "output_type": "execute_result"
    }
   ],
   "source": [
    "X1['Number of sexual partners']"
   ]
  },
  {
   "cell_type": "code",
   "execution_count": null,
   "metadata": {},
   "outputs": [],
   "source": []
  },
  {
   "cell_type": "code",
   "execution_count": null,
   "metadata": {},
   "outputs": [],
   "source": []
  },
  {
   "cell_type": "code",
   "execution_count": 12,
   "metadata": {},
   "outputs": [
    {
     "data": {
      "text/plain": [
       "Index(['Age', 'Number of sexual partners', 'First sexual intercourse',\n",
       "       'Num of pregnancies', 'Smokes', 'Smokes (years)', 'Smokes (packs/year)',\n",
       "       'Hormonal Contraceptives', 'Hormonal Contraceptives (years)', 'IUD',\n",
       "       'IUD (years)', 'STDs', 'STDs (number)', 'STDs:condylomatosis',\n",
       "       'STDs:cervical condylomatosis', 'STDs:vaginal condylomatosis',\n",
       "       'STDs:vulvo-perineal condylomatosis', 'STDs:syphilis',\n",
       "       'STDs:pelvic inflammatory disease', 'STDs:genital herpes',\n",
       "       'STDs:molluscum contagiosum', 'STDs:AIDS', 'STDs:HIV',\n",
       "       'STDs:Hepatitis B', 'STDs:HPV', 'Hinselmann', 'Schiller', 'Cytology',\n",
       "       'Biopsy', 'Updt_Dx'],\n",
       "      dtype='object')"
      ]
     },
     "execution_count": 12,
     "metadata": {},
     "output_type": "execute_result"
    }
   ],
   "source": [
    "cer_cancer_df.columns"
   ]
  }
 ],
 "metadata": {
  "kernelspec": {
   "display_name": "Python 3",
   "language": "python",
   "name": "python3"
  },
  "language_info": {
   "codemirror_mode": {
    "name": "ipython",
    "version": 3
   },
   "file_extension": ".py",
   "mimetype": "text/x-python",
   "name": "python",
   "nbconvert_exporter": "python",
   "pygments_lexer": "ipython3",
   "version": "3.6.8"
  }
 },
 "nbformat": 4,
 "nbformat_minor": 4
}
